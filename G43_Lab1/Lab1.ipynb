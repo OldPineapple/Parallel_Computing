{
  "nbformat": 4,
  "nbformat_minor": 0,
  "metadata": {
    "colab": {
      "name": "Lab1.ipynb",
      "provenance": [],
      "collapsed_sections": []
    },
    "kernelspec": {
      "name": "python3",
      "display_name": "Python 3"
    },
    "accelerator": "GPU"
  },
  "cells": [
    {
      "cell_type": "code",
      "metadata": {
        "id": "8ZNp8oDOOtc_",
        "outputId": "ef2b8987-d929-4b65-e433-9a7804781c65",
        "colab": {
          "resources": {
            "http://localhost:8080/nbextensions/google.colab/files.js": {
              "data": "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",
              "ok": true,
              "headers": [
                [
                  "content-type",
                  "application/javascript"
                ]
              ],
              "status": 200,
              "status_text": ""
            }
          },
          "base_uri": "https://localhost:8080/",
          "height": 242
        }
      },
      "source": [
        "# Upload all txt files \n",
        "from google.colab import files \n",
        "uploaded = files.upload() # uploaded to the content folder "
      ],
      "execution_count": null,
      "outputs": [
        {
          "output_type": "display_data",
          "data": {
            "text/html": [
              "\n",
              "     <input type=\"file\" id=\"files-4ced0dd0-cdf1-41c8-96ab-45449b9a29c9\" name=\"files[]\" multiple disabled\n",
              "        style=\"border:none\" />\n",
              "     <output id=\"result-4ced0dd0-cdf1-41c8-96ab-45449b9a29c9\">\n",
              "      Upload widget is only available when the cell has been executed in the\n",
              "      current browser session. Please rerun this cell to enable.\n",
              "      </output>\n",
              "      <script src=\"/nbextensions/google.colab/files.js\"></script> "
            ],
            "text/plain": [
              "<IPython.core.display.HTML object>"
            ]
          },
          "metadata": {
            "tags": []
          }
        },
        {
          "output_type": "stream",
          "text": [
            "Saving input_10000.csv to input_10000.csv\n",
            "Saving input_100000.csv to input_100000.csv\n",
            "Saving input_1000000.csv to input_1000000.csv\n",
            "Saving sol_10000.txt to sol_10000 (1).txt\n",
            "Saving sol_100000.txt to sol_100000 (1).txt\n",
            "Saving sol_1000000.txt to sol_1000000 (1).txt\n"
          ],
          "name": "stdout"
        }
      ]
    },
    {
      "cell_type": "code",
      "metadata": {
        "id": "lm_UZKaqPeDD",
        "outputId": "bc55ee0d-d8a1-4d4d-8fc1-b57e1539cad6",
        "colab": {
          "base_uri": "https://localhost:8080/",
          "height": 136
        }
      },
      "source": [
        "!nvcc --version\n",
        "!nvprof --version"
      ],
      "execution_count": null,
      "outputs": [
        {
          "output_type": "stream",
          "text": [
            "nvcc: NVIDIA (R) Cuda compiler driver\n",
            "Copyright (c) 2005-2019 NVIDIA Corporation\n",
            "Built on Sun_Jul_28_19:07:16_PDT_2019\n",
            "Cuda compilation tools, release 10.1, V10.1.243\n",
            "nvprof: NVIDIA (R) Cuda command line profiler\n",
            "Copyright (c) 2012 - 2019 NVIDIA Corporation\n",
            "Release version 10.1.243 (21)\n"
          ],
          "name": "stdout"
        }
      ]
    },
    {
      "cell_type": "code",
      "metadata": {
        "id": "BxmUzt51RgiO",
        "outputId": "45d9e423-4790-4652-b044-bd1d425e13f5",
        "colab": {
          "base_uri": "https://localhost:8080/",
          "height": 34
        }
      },
      "source": [
        "%%writefile compareResults.c \n",
        "#include <stdio.h>\n",
        "#include <stdlib.h>\n",
        "\n",
        "\n",
        "void compareFiles(char *file_name1, char *file_name2) \n",
        "{ \n",
        "//get from https://www.tutorialspoint.com/c-program-to-compare-two-files-and-report-mismatches\n",
        "FILE* fp1 = fopen(file_name1, \"r\");\n",
        "FILE* fp2 = fopen(file_name2, \"r\");\n",
        "    // fetching character of two file \n",
        "    // in two variable ch1 and ch2 \n",
        "    char ch1 = getc(fp1); \n",
        "    char ch2 = getc(fp2); \n",
        "  \n",
        "    // error keeps track of number of errors \n",
        "    // pos keeps track of position of errors \n",
        "    // line keeps track of error line \n",
        "    int error = 0, pos = 0, line = 1; \n",
        "  \n",
        "    // iterate loop till end of file \n",
        "    while (ch1 != EOF && ch2 != EOF) \n",
        "    { \n",
        "        pos++; \n",
        "  \n",
        "        // if both variable encounters new \n",
        "        // line then line variable is incremented \n",
        "        // and pos variable is set to 0 \n",
        "        if (ch1 == '\\n' && ch2 == '\\n') \n",
        "        { \n",
        "            line++; \n",
        "            pos = 0; \n",
        "        } \n",
        "  \n",
        "        // if fetched data is not equal then \n",
        "        // error is incremented \n",
        "        if (ch1 != ch2) \n",
        "        { \n",
        "            error++; \n",
        "            printf(\"Line Number : %d \\tError\"\n",
        "               \" Position : %d \\n\", line, pos); \n",
        "        } \n",
        "  \n",
        "        // fetching character until end of file \n",
        "        ch1 = getc(fp1); \n",
        "        ch2 = getc(fp2); \n",
        "    } \n",
        "  \n",
        "    printf(\"Total Errors : %d\\t\", error); \n",
        "} \n",
        "\n",
        "int main(int argc, char *argv[]){\n",
        "\n",
        "    if( argc < 3) {\n",
        "      printf(\"Require two files\\n\");\n",
        "      exit(1);\n",
        "      \n",
        "   }\n",
        "compareFiles(argv[1], argv[2]);\n",
        "}\n"
      ],
      "execution_count": null,
      "outputs": [
        {
          "output_type": "stream",
          "text": [
            "Overwriting compareResults.c\n"
          ],
          "name": "stdout"
        }
      ]
    },
    {
      "cell_type": "code",
      "metadata": {
        "id": "SBtEP8jjRoSC",
        "outputId": "936c88d7-7965-499b-8df6-77b747018cc6",
        "colab": {
          "base_uri": "https://localhost:8080/",
          "height": 34
        }
      },
      "source": [
        "%%writefile gputimer.h\n",
        "\n",
        "// Taken from Udacity Parallel Programming course\n",
        "\n",
        "#ifndef __GPU_TIMER_H__\n",
        "#define __GPU_TIMER_H__\n",
        "\n",
        "struct GpuTimer\n",
        "{\n",
        "      cudaEvent_t start;\n",
        "      cudaEvent_t stop;\n",
        " \n",
        "      GpuTimer()\n",
        "      {\n",
        "            cudaEventCreate(&start);\n",
        "            cudaEventCreate(&stop);\n",
        "      }\n",
        " \n",
        "      ~GpuTimer()\n",
        "      {\n",
        "            cudaEventDestroy(start);\n",
        "            cudaEventDestroy(stop);\n",
        "      }\n",
        " \n",
        "      void Start()\n",
        "      {\n",
        "            cudaEventRecord(start, 0);\n",
        "      }\n",
        " \n",
        "      void Stop()\n",
        "      {\n",
        "            cudaEventRecord(stop, 0);\n",
        "      }\n",
        " \n",
        "      float Elapsed()\n",
        "      {\n",
        "            float elapsed;\n",
        "            cudaEventSynchronize(stop);\n",
        "            cudaEventElapsedTime(&elapsed, start, stop);\n",
        "            return elapsed;\n",
        "      }\n",
        "};\n",
        "\n",
        "#endif  /* __GPU_TIMER_H__ */"
      ],
      "execution_count": null,
      "outputs": [
        {
          "output_type": "stream",
          "text": [
            "Overwriting gputimer.h\n"
          ],
          "name": "stdout"
        }
      ]
    },
    {
      "cell_type": "code",
      "metadata": {
        "id": "wCZfU_IVP1yS",
        "outputId": "52f61bcc-ce8a-4177-a4c9-d4531b019be9",
        "colab": {
          "base_uri": "https://localhost:8080/",
          "height": 34
        }
      },
      "source": [
        "%%writefile parallel_unified.cu\n",
        "\n",
        "#include \"gputimer.h\"\n",
        "#include <stdio.h>\n",
        "#include <stdlib.h>\n",
        "#include <cuda_runtime.h>\n",
        "#include <device_launch_parameters.h>\n",
        "\n",
        "#define AND 0\n",
        "#define OR 1\n",
        "#define NAND 2\n",
        "#define NOR 3\n",
        "#define XOR 4\n",
        "#define XNOR 5\n",
        "\n",
        "__global__ void classify(char* data, int SIZE, char* results) {\n",
        "\t// since only needs to launch one thread per logic gate, SIZE should equal to the number of rows in the file\n",
        "\tint i = threadIdx.x + blockIdx.x * blockDim.x;\n",
        "\tif (i < SIZE) {\n",
        "\t\tif (data[i * 6 + 4] == '0')\n",
        "\t\t{\n",
        "\t\t\tint result = (((data[i * 6]) - '0') & ((data[i * 6 + 2]) - '0'));\n",
        "\t\t\tresults[2 * i] = (result + '0');\n",
        "\t\t\tresults[2 * i + 1] = '\\n';\n",
        "\t\t}\n",
        "\t\telse if (data[i * 6 + 4] == '1')\n",
        "\t\t{\n",
        "\t\t\tint result = ((data[i * 6]) - '0') | ((data[i * 6 + 2]) - '0');\n",
        "\t\t\tresults[2 * i] = (result + '0');\n",
        "\t\t\tresults[2 * i + 1] = '\\n';\n",
        "\t\t}\n",
        "\t\telse if (data[i * 6 + 4] == '2')\n",
        "\t\t{\n",
        "\t\t\tint result = !(((data[i * 6]) - '0') & ((data[i * 6 + 2]) - '0'));\n",
        "\t\t\tresults[2 * i] = (result + '0');\n",
        "\t\t\tresults[2 * i + 1] = '\\n';\n",
        "\t\t}\n",
        "\t\telse if (data[i * 6 + 4] == '3')\n",
        "\t\t{\n",
        "\t\t\tint result = !(((data[i * 6]) - '0') | ((data[i * 6 + 2]) - '0'));\n",
        "\t\t\tresults[2 * i] = (result + '0');\n",
        "\t\t\tresults[2 * i + 1] = '\\n';\n",
        "\t\t}\n",
        "\t\telse if (data[i * 6 + 4] == '4')\n",
        "\t\t{\n",
        "\t\t\tint result = (((data[i * 6]) - '0') ^ ((data[i * 6 + 2]) - '0'));\n",
        "\t\t\tresults[2 * i] = (result + '0');\n",
        "\t\t\tresults[2 * i + 1] = '\\n';\n",
        "\t\t}\n",
        "\t\telse if (data[i * 6 + 4] == '5')\n",
        "\t\t{\n",
        "\t\t\tint result = !(((data[i * 6]) - '0') ^ ((data[i * 6 + 2]) - '0'));\n",
        "\t\t\tresults[2 * i] = (result + '0');\n",
        "\t\t\tresults[2 * i + 1] = '\\n';\n",
        "\t\t}\n",
        "\t}\n",
        "}\n",
        "\n",
        "\n",
        "void parallel_unified(FILE* fp_in, int length, FILE* fp_out) {\n",
        "\t// input has length 'length' and output has length 'length/3'\n",
        "\t// output file has only 2 elements in one line (a number and a '\\n') while input file has 6 (listed in main)\n",
        "\tchar* data, * results;\n",
        "\t// timer_kernel records time for kernel function\n",
        "\tGpuTimer timer_kernel;\n",
        "\t// Unified memory allocation methods\n",
        "\tcudaMallocManaged(&data, length);\n",
        "\tcudaMallocManaged(&results, length / 3);\n",
        "\tfread(data, 1, length, fp_in);\n",
        "\tint maxThreadNum = 1024;\n",
        "\t// distribute the total threads equally in blocks\n",
        "\twhile (1)\n",
        "\t{\n",
        "\t\tif (length / 6 % maxThreadNum != 0)\n",
        "\t\t{\n",
        "\t\t\tmaxThreadNum--;\n",
        "\t\t}\n",
        "\t\telse\n",
        "\t\t{\n",
        "\t\t\tbreak;\n",
        "\t\t}\n",
        "\t}\n",
        "\tint totalBlocks = length / 6 / maxThreadNum;\n",
        "\ttimer_kernel.Start();\n",
        "\tclassify <<<totalBlocks, maxThreadNum >>> (data, length / 6, results);\n",
        "\ttimer_kernel.Stop();\n",
        "\tcudaDeviceSynchronize();\n",
        "\tprintf(\"Time for kernel functions: %f ms\\n\", timer_kernel.Elapsed());\n",
        "\n",
        "\tfputs(results, fp_out);\n",
        "\n",
        "\tcudaFree(data);\n",
        "\tcudaFree(results);\n",
        "}\n",
        "\n",
        "int main(int argc, char* argv[])\n",
        "{\n",
        "\tif (argc < 4)\n",
        "\t{\n",
        "\t\tprintf(\"You must enter 3 input files!\\n\");\n",
        "\t\texit(1);\n",
        "\t}\n",
        "\n",
        "\t// argv[1] : input_file_path\n",
        "\t// argv[2] : input_file_length\n",
        "\t// argv[3] : output_file_path\n",
        "\n",
        "\tchar* fileName = argv[1];\n",
        "\tFILE* input = fopen(fileName, \"r\");\n",
        "\tif (input == NULL)\n",
        "\t{\n",
        "\t\texit(EXIT_FAILURE);\n",
        "\t\tprintf(\"No input file.\\n\");\n",
        "\t}\n",
        "\n",
        "\n",
        "\tchar* outputFileName = argv[3];\n",
        "\tFILE* output = fopen(outputFileName, \"w\");\n",
        "\tif (output == NULL)\n",
        "\t{\n",
        "\t\texit(EXIT_FAILURE);\n",
        "\t\tprintf(\"No output file.\\n\");\n",
        "\t}\n",
        "\n",
        "\t// atoi(argv[2]) is the number of lines in a file\n",
        "\t// each line has 6 elements, including 3 numbers, 2 commas and 1 '\\n'\n",
        "\t// as a result the length pass in should be atoi(argv[2]) * 6 \n",
        "\tprintf(\"For input file %s \\n\", fileName);\n",
        "\tparallel_unified(input, atoi(argv[2]) * 6, output);\n",
        "\n",
        "\tfclose(input);\n",
        "\tfclose(output);\n",
        "\n",
        "\treturn 0;\n",
        "}"
      ],
      "execution_count": null,
      "outputs": [
        {
          "output_type": "stream",
          "text": [
            "Overwriting parallel_unified.cu\n"
          ],
          "name": "stdout"
        }
      ]
    },
    {
      "cell_type": "code",
      "metadata": {
        "id": "YWt1poegQ-z_",
        "outputId": "f6993232-a4aa-4ec1-bcda-d0e57a2b4085",
        "colab": {
          "base_uri": "https://localhost:8080/",
          "height": 119
        }
      },
      "source": [
        "!nvcc parallel_unified.cu -o parallel_unified\n",
        "!./parallel_unified input_10000.csv 10000 output_parallel_unified_10000.txt\n",
        "!./parallel_unified input_100000.csv 100000 output_parallel_unified_100000.txt\n",
        "!./parallel_unified input_1000000.csv 1000000 output_parallel_unified_1000000.txt"
      ],
      "execution_count": null,
      "outputs": [
        {
          "output_type": "stream",
          "text": [
            "For input file input_10000.csv \n",
            "Time for kernel functions: 0.518176 ms\n",
            "For input file input_100000.csv \n",
            "Time for kernel functions: 0.725664 ms\n",
            "For input file input_1000000.csv \n",
            "Time for kernel functions: 2.660480 ms\n"
          ],
          "name": "stdout"
        }
      ]
    },
    {
      "cell_type": "code",
      "metadata": {
        "id": "CNoojl-gSObN",
        "outputId": "be6c9548-a549-4aac-dd82-1d1ff004f54e",
        "colab": {
          "base_uri": "https://localhost:8080/",
          "height": 544
        }
      },
      "source": [
        "!nvprof ./parallel_unified input_10000.csv 10000 output_parallel_unified_10000.txt"
      ],
      "execution_count": null,
      "outputs": [
        {
          "output_type": "stream",
          "text": [
            "For input file input_10000.csv \n",
            "==283== NVPROF is profiling process 283, command: ./parallel_unified input_10000.csv 10000 output_parallel_unified_10000.txt\n",
            "Time for kernel functions: 0.484320 ms\n",
            "==283== Profiling application: ./parallel_unified input_10000.csv 10000 output_parallel_unified_10000.txt\n",
            "==283== Profiling result:\n",
            "            Type  Time(%)      Time     Calls       Avg       Min       Max  Name\n",
            " GPU activities:  100.00%  451.62us         1  451.62us  451.62us  451.62us  classify(char*, int, char*)\n",
            "      API calls:   89.63%  185.91ms         2  92.957ms     968ns  185.91ms  cudaEventCreate\n",
            "                    9.83%  20.386ms         2  10.193ms  21.254us  20.364ms  cudaMallocManaged\n",
            "                    0.22%  460.22us         1  460.22us  460.22us  460.22us  cudaDeviceSynchronize\n",
            "                    0.17%  344.29us         1  344.29us  344.29us  344.29us  cuDeviceTotalMem\n",
            "                    0.07%  134.84us        97  1.3900us     137ns  56.733us  cuDeviceGetAttribute\n",
            "                    0.05%  97.922us         2  48.961us  29.669us  68.253us  cudaFree\n",
            "                    0.01%  29.473us         1  29.473us  29.473us  29.473us  cudaLaunchKernel\n",
            "                    0.01%  24.107us         1  24.107us  24.107us  24.107us  cuDeviceGetName\n",
            "                    0.01%  15.273us         2  7.6360us  3.2540us  12.019us  cudaEventRecord\n",
            "                    0.00%  3.3120us         1  3.3120us  3.3120us  3.3120us  cudaEventSynchronize\n",
            "                    0.00%  2.9820us         1  2.9820us  2.9820us  2.9820us  cuDeviceGetPCIBusId\n",
            "                    0.00%  2.8060us         2  1.4030us     603ns  2.2030us  cudaEventDestroy\n",
            "                    0.00%  2.5640us         1  2.5640us  2.5640us  2.5640us  cudaEventElapsedTime\n",
            "                    0.00%  1.6610us         3     553ns     172ns     979ns  cuDeviceGetCount\n",
            "                    0.00%  1.3130us         2     656ns     344ns     969ns  cuDeviceGet\n",
            "                    0.00%     242ns         1     242ns     242ns     242ns  cuDeviceGetUuid\n",
            "\n",
            "==283== Unified Memory profiling result:\n",
            "Device \"Tesla T4 (0)\"\n",
            "   Count  Avg Size  Min Size  Max Size  Total Size  Total Time  Name\n",
            "       2  32.000KB  4.0000KB  60.000KB  64.00000KB  12.48000us  Host To Device\n",
            "       5  25.600KB  4.0000KB  60.000KB  128.0000KB  17.21600us  Device To Host\n",
            "       2         -         -         -           -  440.5760us  Gpu page fault groups\n",
            "Total CPU Page faults: 3\n"
          ],
          "name": "stdout"
        }
      ]
    },
    {
      "cell_type": "code",
      "metadata": {
        "id": "tS9TVwKVSzWp",
        "outputId": "db5f485c-5e50-4fa9-dca9-a4ff686dba32",
        "colab": {
          "base_uri": "https://localhost:8080/",
          "height": 544
        }
      },
      "source": [
        "!nvprof ./parallel_unified input_100000.csv 100000 output_parallel_unified_100000.txt"
      ],
      "execution_count": null,
      "outputs": [
        {
          "output_type": "stream",
          "text": [
            "For input file input_100000.csv \n",
            "==294== NVPROF is profiling process 294, command: ./parallel_unified input_100000.csv 100000 output_parallel_unified_100000.txt\n",
            "Time for kernel functions: 1.015680 ms\n",
            "==294== Profiling application: ./parallel_unified input_100000.csv 100000 output_parallel_unified_100000.txt\n",
            "==294== Profiling result:\n",
            "            Type  Time(%)      Time     Calls       Avg       Min       Max  Name\n",
            " GPU activities:  100.00%  984.00us         1  984.00us  984.00us  984.00us  classify(char*, int, char*)\n",
            "      API calls:   89.49%  189.11ms         2  94.554ms  1.0300us  189.11ms  cudaEventCreate\n",
            "                    9.65%  20.394ms         2  10.197ms  26.933us  20.367ms  cudaMallocManaged\n",
            "                    0.47%  993.84us         1  993.84us  993.84us  993.84us  cudaDeviceSynchronize\n",
            "                    0.19%  393.29us         1  393.29us  393.29us  393.29us  cuDeviceTotalMem\n",
            "                    0.08%  178.38us         2  89.191us  39.098us  139.29us  cudaFree\n",
            "                    0.07%  140.88us        97  1.4520us     143ns  59.029us  cuDeviceGetAttribute\n",
            "                    0.02%  35.304us         1  35.304us  35.304us  35.304us  cuDeviceGetName\n",
            "                    0.01%  28.319us         1  28.319us  28.319us  28.319us  cudaLaunchKernel\n",
            "                    0.01%  21.090us         2  10.545us  2.8210us  18.269us  cudaEventRecord\n",
            "                    0.00%  3.3950us         1  3.3950us  3.3950us  3.3950us  cudaEventSynchronize\n",
            "                    0.00%  3.2030us         1  3.2030us  3.2030us  3.2030us  cudaEventElapsedTime\n",
            "                    0.00%  3.1930us         1  3.1930us  3.1930us  3.1930us  cuDeviceGetPCIBusId\n",
            "                    0.00%  3.1730us         2  1.5860us     688ns  2.4850us  cudaEventDestroy\n",
            "                    0.00%  2.0570us         3     685ns     164ns  1.2720us  cuDeviceGetCount\n",
            "                    0.00%  1.3770us         2     688ns     367ns  1.0100us  cuDeviceGet\n",
            "                    0.00%     266ns         1     266ns     266ns     266ns  cuDeviceGetUuid\n",
            "\n",
            "==294== Unified Memory profiling result:\n",
            "Device \"Tesla T4 (0)\"\n",
            "   Count  Avg Size  Min Size  Max Size  Total Size  Total Time  Name\n",
            "      35  29.257KB  4.0000KB  320.00KB  1.000000MB  172.9600us  Host To Device\n",
            "      10  51.199KB  4.0000KB  252.00KB  512.0000KB  54.68800us  Device To Host\n",
            "       3         -         -         -           -  964.0640us  Gpu page fault groups\n",
            "Total CPU Page faults: 9\n"
          ],
          "name": "stdout"
        }
      ]
    },
    {
      "cell_type": "code",
      "metadata": {
        "id": "XCH2eEXhTIbU",
        "outputId": "c4b38ca2-0bca-4dd7-b6d5-cc7308131d46",
        "colab": {
          "base_uri": "https://localhost:8080/",
          "height": 544
        }
      },
      "source": [
        "!nvprof ./parallel_unified input_1000000.csv 1000000 output_parallel_unified_1000000.txt"
      ],
      "execution_count": null,
      "outputs": [
        {
          "output_type": "stream",
          "text": [
            "For input file input_1000000.csv \n",
            "==305== NVPROF is profiling process 305, command: ./parallel_unified input_1000000.csv 1000000 output_parallel_unified_1000000.txt\n",
            "Time for kernel functions: 3.928640 ms\n",
            "==305== Profiling application: ./parallel_unified input_1000000.csv 1000000 output_parallel_unified_1000000.txt\n",
            "==305== Profiling result:\n",
            "            Type  Time(%)      Time     Calls       Avg       Min       Max  Name\n",
            " GPU activities:  100.00%  3.8932ms         1  3.8932ms  3.8932ms  3.8932ms  classify(char*, int, char*)\n",
            "      API calls:   87.48%  177.59ms         2  88.793ms     944ns  177.58ms  cudaEventCreate\n",
            "                   10.03%  20.354ms         2  10.177ms  50.062us  20.304ms  cudaMallocManaged\n",
            "                    1.92%  3.9058ms         1  3.9058ms  3.9058ms  3.9058ms  cudaDeviceSynchronize\n",
            "                    0.28%  563.05us         2  281.53us  160.67us  402.38us  cudaFree\n",
            "                    0.17%  346.27us         1  346.27us  346.27us  346.27us  cuDeviceTotalMem\n",
            "                    0.07%  136.72us        97  1.4090us     135ns  57.228us  cuDeviceGetAttribute\n",
            "                    0.02%  33.173us         1  33.173us  33.173us  33.173us  cudaLaunchKernel\n",
            "                    0.01%  29.908us         1  29.908us  29.908us  29.908us  cuDeviceGetName\n",
            "                    0.01%  18.364us         2  9.1820us  3.7130us  14.651us  cudaEventRecord\n",
            "                    0.00%  4.6560us         1  4.6560us  4.6560us  4.6560us  cudaEventSynchronize\n",
            "                    0.00%  3.5090us         1  3.5090us  3.5090us  3.5090us  cudaEventElapsedTime\n",
            "                    0.00%  3.2630us         2  1.6310us     629ns  2.6340us  cudaEventDestroy\n",
            "                    0.00%  3.0670us         1  3.0670us  3.0670us  3.0670us  cuDeviceGetPCIBusId\n",
            "                    0.00%  1.7880us         3     596ns     146ns  1.2610us  cuDeviceGetCount\n",
            "                    0.00%  1.1220us         2     561ns     250ns     872ns  cuDeviceGet\n",
            "                    0.00%     245ns         1     245ns     245ns     245ns  cuDeviceGetUuid\n",
            "\n",
            "==305== Unified Memory profiling result:\n",
            "Device \"Tesla T4 (0)\"\n",
            "   Count  Avg Size  Min Size  Max Size  Total Size  Total Time  Name\n",
            "     178  32.921KB  4.0000KB  920.00KB  5.722656MB  919.2960us  Host To Device\n",
            "      12  170.67KB  4.0000KB  0.9961MB  2.000000MB  186.4640us  Device To Host\n",
            "      17         -         -         -           -  3.770272ms  Gpu page fault groups\n",
            "Total CPU Page faults: 24\n"
          ],
          "name": "stdout"
        }
      ]
    },
    {
      "cell_type": "code",
      "metadata": {
        "id": "a6vz1ixvTQsS",
        "outputId": "cd9c40f3-173a-4812-ddd1-cd8154f89f08",
        "colab": {
          "base_uri": "https://localhost:8080/",
          "height": 34
        }
      },
      "source": [
        "%%writefile parallel_explicit.cu\n",
        "\n",
        "#include \"gputimer.h\"\n",
        "#include <stdio.h>\n",
        "#include <stdlib.h>\n",
        "#include <cuda_runtime.h>\n",
        "#include <device_launch_parameters.h>\n",
        "#include <ctime>\n",
        "\n",
        "#define AND 0\n",
        "#define OR 1\n",
        "#define NAND 2\n",
        "#define NOR 3\n",
        "#define XOR 4\n",
        "#define XNOR 5\n",
        "\n",
        "__global__ void classify(char* d_data, int SIZE, char* d_results) {\n",
        "\tint i = threadIdx.x + blockIdx.x * blockDim.x;\n",
        "\t// since only needs to launch one thread per logic gate, SIZE should equal to the number of rows in the file\n",
        "\tif (i < SIZE) {\n",
        "\t\tif (d_data[i * 6 + 4] == '0')\n",
        "\t\t{\n",
        "\t\t\tint result = (((d_data[i * 6]) - '0') & ((d_data[i * 6 + 2]) - '0'));\n",
        "\t\t\td_results[2 * i] = (result + '0');\n",
        "\t\t\td_results[2 * i + 1] = '\\n';\n",
        "\t\t}\n",
        "\t\telse if (d_data[i * 6 + 4] == '1')\n",
        "\t\t{\n",
        "\t\t\tint result = ((d_data[i * 6]) - '0') | ((d_data[i * 6 + 2]) - '0');\n",
        "\t\t\td_results[2 * i] = (result + '0');\n",
        "\t\t\td_results[2 * i + 1] = '\\n';\n",
        "\t\t}\n",
        "\t\telse if (d_data[i * 6 + 4] == '2')\n",
        "\t\t{\n",
        "\t\t\tint result = !(((d_data[i * 6]) - '0') & ((d_data[i * 6 + 2]) - '0'));\n",
        "\t\t\td_results[2 * i] = (result + '0');\n",
        "\t\t\td_results[2 * i + 1] = '\\n';\n",
        "\t\t}\n",
        "\t\telse if (d_data[i * 6 + 4] == '3')\n",
        "\t\t{\n",
        "\t\t\tint result = !(((d_data[i * 6]) - '0') | ((d_data[i * 6 + 2]) - '0'));\n",
        "\t\t\td_results[2 * i] = (result + '0');\n",
        "\t\t\td_results[2 * i + 1] = '\\n';\n",
        "\t\t}\n",
        "\t\telse if (d_data[i * 6 + 4] == '4')\n",
        "\t\t{\n",
        "\t\t\tint result = (((d_data[i * 6]) - '0') ^ ((d_data[i * 6 + 2]) - '0'));\n",
        "\t\t\td_results[2 * i] = (result + '0');\n",
        "\t\t\td_results[2 * i + 1] = '\\n';\n",
        "\t\t}\n",
        "\t\telse if (d_data[i * 6 + 4] == '5')\n",
        "\t\t{\n",
        "\t\t\tint result = !(((d_data[i * 6]) - '0') ^ ((d_data[i * 6 + 2]) - '0'));\n",
        "\t\t\td_results[2 * i] = (result + '0');\n",
        "\t\t\td_results[2 * i + 1] = '\\n';\n",
        "\t\t}\n",
        "\t}\n",
        "}\n",
        "\n",
        "void parallel_explicit(FILE* fp_in, int length, FILE* fp_out) {\n",
        "\t// input has length 'length' and output has length 'length/3'\n",
        "\t// output file has only 2 elements in one line (a number and a '\\n') while input file has 6 (listed in main)\n",
        "\tchar* data, * d_data, * results, * d_results;\n",
        "\t// timer_kernel records time for kernel function\n",
        "\t// timer_migration records explicit data migration time (copy data from host to device)\n",
        "\tGpuTimer timer_kernel, timer_migration_write, timer_migration_read;\n",
        "\tdata = (char*)malloc(length);\n",
        "\tresults = (char*)malloc(length/3);\n",
        "\tcudaMalloc(&d_data, length);\n",
        "\tcudaMalloc(&d_results, length/3);\n",
        "\tfread(data, 1, length, fp_in);\n",
        "\ttimer_migration_write.Start();\n",
        "\tcudaMemcpy(d_data, data, length, cudaMemcpyHostToDevice);\n",
        "\tcudaMemcpy(d_results, results, length/3, cudaMemcpyHostToDevice);\n",
        "\ttimer_migration_write.Stop();\n",
        "\tint maxThreadNum = 1024;\n",
        "\t// distribute the total threads equally in blocks\n",
        "\twhile(1)\n",
        "\t{\n",
        "\t\tif(length/6 % maxThreadNum != 0)\n",
        "\t\t{\n",
        "\t\t\tmaxThreadNum--;\n",
        "\t\t}\n",
        "\t\telse\n",
        "\t\t{\n",
        "\t\t\tbreak;\n",
        "\t\t}\n",
        "\t}\n",
        "\tint totalBlocks = length / 6 / maxThreadNum;\n",
        "\ttimer_kernel.Start();\n",
        "\tclassify <<<totalBlocks, maxThreadNum>>> (d_data, length/6, d_results);\n",
        "\ttimer_kernel.Stop();\n",
        "\ttimer_migration_read.Start();\n",
        "\tcudaMemcpy(data, d_data, length, cudaMemcpyDeviceToHost);\n",
        "\tcudaMemcpy(results, d_results, length/3, cudaMemcpyDeviceToHost);\n",
        "\ttimer_migration_read.Stop();\n",
        "\tprintf(\"Time for kernel functions: %f ms\\n\", timer_kernel.Elapsed());\n",
        "\tprintf(\"Time for explicit data migration: %f ms\\n\", timer_migration_write.Elapsed() + timer_migration_read.Elapsed());\n",
        "\n",
        "\tfputs(results, fp_out);\n",
        "\t\n",
        "\tcudaFree(d_data);\n",
        "\tcudaFree(d_results);\n",
        "\tfree(data);\n",
        "\tfree(results);\n",
        "}\n",
        "\n",
        "int main(int argc, char* argv[])\n",
        "{\n",
        "\tif ( argc < 4)\n",
        "\t{\n",
        "\t\tprintf(\"You must enter 3 input files!\\n\");\n",
        "\t\texit(1);\n",
        "\t}\n",
        "\n",
        "\t// argv[1] : input_file_path\n",
        "\t// argv[2] : input_file_length\n",
        "\t// argv[3] : output_file_path\n",
        "\n",
        "\tchar* fileName = argv[1];\n",
        "\tFILE* input = fopen(fileName, \"r\");\n",
        "\tif (input == NULL)\n",
        "\t{\n",
        "\t\texit(EXIT_FAILURE);\n",
        "\t\tprintf(\"No input file.\\n\");\n",
        "\t}\n",
        "\n",
        "\n",
        "\tchar* outputFileName = argv[3];\n",
        "\tFILE* output = fopen(outputFileName, \"w\");\n",
        "\tif (output == NULL)\n",
        "\t{\n",
        "\t\texit(EXIT_FAILURE);\n",
        "\t\tprintf(\"No output file.\\n\");\n",
        "\t}\n",
        "\n",
        "\t// atoi(argv[2]) is the number of lines in a file\n",
        "\t// each line has 6 elements, including 3 numbers, 2 commas and 1 '\\n'\n",
        "\t// as a result the length pass in should be atoi(argv[2]) * 6\n",
        "\tprintf(\"For input file %s \\n\", fileName);\n",
        "\tparallel_explicit(input, atoi(argv[2]) * 6, output);\n",
        "\tfclose(input);\n",
        "\tfclose(output);\n",
        "\n",
        "\treturn 0;\n",
        "}"
      ],
      "execution_count": null,
      "outputs": [
        {
          "output_type": "stream",
          "text": [
            "Writing parallel_explicit.cu\n"
          ],
          "name": "stdout"
        }
      ]
    },
    {
      "cell_type": "code",
      "metadata": {
        "id": "BV9z0wF6U2f5",
        "outputId": "c1e9ab8f-0c60-42c5-e915-6a18d2365c7d",
        "colab": {
          "base_uri": "https://localhost:8080/",
          "height": 170
        }
      },
      "source": [
        "!nvcc parallel_explicit.cu -o parallel_explicit\n",
        "!./parallel_explicit input_10000.csv 10000 output_parallel_explicit_10000.txt\n",
        "!./parallel_explicit input_100000.csv 100000 output_parallel_explicit_100000.txt\n",
        "!./parallel_explicit input_1000000.csv 1000000 output_parallel_explicit_1000000.txt"
      ],
      "execution_count": null,
      "outputs": [
        {
          "output_type": "stream",
          "text": [
            "For input file input_10000.csv \n",
            "Time for kernel functions: 0.017152 ms\n",
            "Time for explicit data migration: 0.183040 ms\n",
            "For input file input_100000.csv \n",
            "Time for kernel functions: 0.024416 ms\n",
            "Time for explicit data migration: 0.522976 ms\n",
            "For input file input_1000000.csv \n",
            "Time for kernel functions: 0.127552 ms\n",
            "Time for explicit data migration: 3.883904 ms\n"
          ],
          "name": "stdout"
        }
      ]
    },
    {
      "cell_type": "code",
      "metadata": {
        "id": "rQ9PQkI5U8jN",
        "outputId": "e298c406-a923-4e84-ff2d-a0226e953678",
        "colab": {
          "base_uri": "https://localhost:8080/",
          "height": 459
        }
      },
      "source": [
        "!nvprof ./parallel_explicit input_10000.csv 10000 output_parallel_explicit_10000.txt"
      ],
      "execution_count": null,
      "outputs": [
        {
          "output_type": "stream",
          "text": [
            "For input file input_10000.csv \n",
            "==364== NVPROF is profiling process 364, command: ./parallel_explicit input_10000.csv 10000 output_parallel_explicit_10000.txt\n",
            "Time for kernel functions: 0.027968 ms\n",
            "Time for explicit data migration: 0.130688 ms\n",
            "==364== Profiling application: ./parallel_explicit input_10000.csv 10000 output_parallel_explicit_10000.txt\n",
            "==364== Profiling result:\n",
            "            Type  Time(%)      Time     Calls       Avg       Min       Max  Name\n",
            " GPU activities:   37.97%  9.3440us         2  4.6720us  2.9120us  6.4320us  [CUDA memcpy DtoH]\n",
            "                   37.97%  9.3440us         2  4.6720us  2.9440us  6.4000us  [CUDA memcpy HtoD]\n",
            "                   24.06%  5.9200us         1  5.9200us  5.9200us  5.9200us  classify(char*, int, char*)\n",
            "      API calls:   99.48%  177.72ms         6  29.620ms     504ns  177.72ms  cudaEventCreate\n",
            "                    0.19%  343.29us         1  343.29us  343.29us  343.29us  cuDeviceTotalMem\n",
            "                    0.07%  132.49us         2  66.243us  6.4530us  126.03us  cudaMalloc\n",
            "                    0.07%  127.48us        97  1.3140us     134ns  52.988us  cuDeviceGetAttribute\n",
            "                    0.07%  124.88us         4  31.219us  20.615us  39.405us  cudaMemcpy\n",
            "                    0.06%  100.04us         2  50.022us  13.517us  86.527us  cudaFree\n",
            "                    0.01%  25.216us         1  25.216us  25.216us  25.216us  cudaLaunchKernel\n",
            "                    0.01%  22.621us         1  22.621us  22.621us  22.621us  cuDeviceGetName\n",
            "                    0.01%  15.834us         6  2.6390us  1.2270us  5.6390us  cudaEventRecord\n",
            "                    0.00%  8.4740us         3  2.8240us  1.6690us  3.8300us  cudaEventElapsedTime\n",
            "                    0.00%  7.9120us         3  2.6370us  2.0050us  3.2720us  cudaEventSynchronize\n",
            "                    0.00%  4.8480us         6     808ns     435ns  1.7120us  cudaEventDestroy\n",
            "                    0.00%  3.2470us         1  3.2470us  3.2470us  3.2470us  cuDeviceGetPCIBusId\n",
            "                    0.00%  2.3480us         3     782ns     227ns  1.5390us  cuDeviceGetCount\n",
            "                    0.00%  1.5680us         2     784ns     296ns  1.2720us  cuDeviceGet\n",
            "                    0.00%     284ns         1     284ns     284ns     284ns  cuDeviceGetUuid\n"
          ],
          "name": "stdout"
        }
      ]
    },
    {
      "cell_type": "code",
      "metadata": {
        "id": "JinAbwxNVE6-",
        "outputId": "c8f779a8-307c-455c-bfe9-dfe9b0646c8d",
        "colab": {
          "base_uri": "https://localhost:8080/",
          "height": 459
        }
      },
      "source": [
        "!nvprof ./parallel_explicit input_100000.csv 100000 output_parallel_explicit_100000.txt"
      ],
      "execution_count": null,
      "outputs": [
        {
          "output_type": "stream",
          "text": [
            "For input file input_100000.csv \n",
            "==375== NVPROF is profiling process 375, command: ./parallel_explicit input_100000.csv 100000 output_parallel_explicit_100000.txt\n",
            "Time for kernel functions: 0.029248 ms\n",
            "Time for explicit data migration: 0.509088 ms\n",
            "==375== Profiling application: ./parallel_explicit input_100000.csv 100000 output_parallel_explicit_100000.txt\n",
            "==375== Profiling result:\n",
            "            Type  Time(%)      Time     Calls       Avg       Min       Max  Name\n",
            " GPU activities:   46.88%  71.392us         2  35.696us  19.328us  52.064us  [CUDA memcpy HtoD]\n",
            "                   42.47%  64.672us         2  32.336us  17.344us  47.328us  [CUDA memcpy DtoH]\n",
            "                   10.65%  16.224us         1  16.224us  16.224us  16.224us  classify(char*, int, char*)\n",
            "      API calls:   99.23%  179.65ms         6  29.941ms     544ns  179.65ms  cudaEventCreate\n",
            "                    0.28%  498.98us         4  124.74us  77.995us  158.66us  cudaMemcpy\n",
            "                    0.20%  353.42us         1  353.42us  353.42us  353.42us  cuDeviceTotalMem\n",
            "                    0.09%  156.81us         2  78.402us  25.352us  131.45us  cudaMalloc\n",
            "                    0.09%  156.38us        97  1.6120us     142ns  72.066us  cuDeviceGetAttribute\n",
            "                    0.07%  128.62us         2  64.309us  17.252us  111.37us  cudaFree\n",
            "                    0.02%  28.438us         1  28.438us  28.438us  28.438us  cudaLaunchKernel\n",
            "                    0.01%  24.045us         1  24.045us  24.045us  24.045us  cuDeviceGetName\n",
            "                    0.01%  21.073us         6  3.5120us  1.4160us  10.921us  cudaEventRecord\n",
            "                    0.00%  8.5860us         3  2.8620us  2.0280us  3.3360us  cudaEventElapsedTime\n",
            "                    0.00%  8.0500us         3  2.6830us  2.0510us  3.1770us  cudaEventSynchronize\n",
            "                    0.00%  6.5780us         6  1.0960us     472ns  3.3190us  cudaEventDestroy\n",
            "                    0.00%  3.2270us         1  3.2270us  3.2270us  3.2270us  cuDeviceGetPCIBusId\n",
            "                    0.00%  1.8460us         3     615ns     175ns  1.2310us  cuDeviceGetCount\n",
            "                    0.00%  1.0970us         2     548ns     217ns     880ns  cuDeviceGet\n",
            "                    0.00%     293ns         1     293ns     293ns     293ns  cuDeviceGetUuid\n"
          ],
          "name": "stdout"
        }
      ]
    },
    {
      "cell_type": "code",
      "metadata": {
        "id": "N93Ao8IWVJp3",
        "outputId": "fea34d63-92ec-4d46-abd5-22dda786f4e1",
        "colab": {
          "base_uri": "https://localhost:8080/",
          "height": 459
        }
      },
      "source": [
        "!nvprof ./parallel_explicit input_1000000.csv 1000000 output_parallel_explicit_1000000.txt"
      ],
      "execution_count": null,
      "outputs": [
        {
          "output_type": "stream",
          "text": [
            "For input file input_1000000.csv \n",
            "==386== NVPROF is profiling process 386, command: ./parallel_explicit input_1000000.csv 1000000 output_parallel_explicit_1000000.txt\n",
            "Time for kernel functions: 0.139296 ms\n",
            "Time for explicit data migration: 5.072160 ms\n",
            "==386== Profiling application: ./parallel_explicit input_1000000.csv 1000000 output_parallel_explicit_1000000.txt\n",
            "==386== Profiling result:\n",
            "            Type  Time(%)      Time     Calls       Avg       Min       Max  Name\n",
            " GPU activities:   58.14%  1.4851ms         2  742.53us  384.16us  1.1009ms  [CUDA memcpy HtoD]\n",
            "                   36.88%  941.98us         2  470.99us  180.00us  761.98us  [CUDA memcpy DtoH]\n",
            "                    4.98%  127.30us         1  127.30us  127.30us  127.30us  classify(char*, int, char*)\n",
            "      API calls:   96.59%  181.43ms         6  30.239ms     537ns  181.43ms  cudaEventCreate\n",
            "                    2.75%  5.1630ms         4  1.2908ms  699.07us  2.0591ms  cudaMemcpy\n",
            "                    0.22%  413.17us         2  206.58us  140.12us  273.05us  cudaFree\n",
            "                    0.20%  374.32us         1  374.32us  374.32us  374.32us  cuDeviceTotalMem\n",
            "                    0.11%  202.63us         2  101.31us  80.659us  121.97us  cudaMalloc\n",
            "                    0.07%  131.06us        97  1.3510us     139ns  54.775us  cuDeviceGetAttribute\n",
            "                    0.02%  29.285us         6  4.8800us  1.4290us  12.833us  cudaEventRecord\n",
            "                    0.02%  28.923us         1  28.923us  28.923us  28.923us  cudaLaunchKernel\n",
            "                    0.01%  22.392us         1  22.392us  22.392us  22.392us  cuDeviceGetName\n",
            "                    0.01%  13.123us         3  4.3740us     166ns  11.642us  cuDeviceGetCount\n",
            "                    0.00%  8.8270us         3  2.9420us  2.3550us  3.3860us  cudaEventSynchronize\n",
            "                    0.00%  8.4790us         3  2.8260us  1.8970us  3.3940us  cudaEventElapsedTime\n",
            "                    0.00%  6.1970us         6  1.0320us     445ns  3.1230us  cudaEventDestroy\n",
            "                    0.00%  2.9200us         1  2.9200us  2.9200us  2.9200us  cuDeviceGetPCIBusId\n",
            "                    0.00%  1.2130us         2     606ns     227ns     986ns  cuDeviceGet\n",
            "                    0.00%     263ns         1     263ns     263ns     263ns  cuDeviceGetUuid\n"
          ],
          "name": "stdout"
        }
      ]
    },
    {
      "cell_type": "code",
      "metadata": {
        "id": "yJkZOruOVMtX",
        "outputId": "2e526b6d-c027-474c-8dda-1f52d2a9e267",
        "colab": {
          "base_uri": "https://localhost:8080/",
          "height": 34
        }
      },
      "source": [
        "%%writefile parallel_prefetch.cu\n",
        "\n",
        "#include \"gputimer.h\"\n",
        "#include <stdio.h>\n",
        "#include <stdlib.h>\n",
        "#include <cuda_runtime.h>\n",
        "#include <device_launch_parameters.h>\n",
        "\n",
        "#define AND 0\n",
        "#define OR 1\n",
        "#define NAND 2\n",
        "#define NOR 3\n",
        "#define XOR 4\n",
        "#define XNOR 5\n",
        "\n",
        "__global__ void classify(char* data, int SIZE, char* results) {\n",
        "\t// since only needs to launch one thread per logic gate, SIZE should equal to the number of rows in the file\n",
        "\tint i = threadIdx.x + blockIdx.x * blockDim.x;\n",
        "\tif (i < SIZE) {\n",
        "\t\tif (data[i * 6 + 4] == '0')\n",
        "\t\t{\n",
        "\t\t\tint result = (((data[i * 6]) - '0') & ((data[i * 6 + 2]) - '0'));\n",
        "\t\t\tresults[2 * i] = (result + '0');\n",
        "\t\t\tresults[2 * i + 1] = '\\n';\n",
        "\t\t}\n",
        "\t\telse if (data[i * 6 + 4] == '1')\n",
        "\t\t{\n",
        "\t\t\tint result = ((data[i * 6]) - '0') | ((data[i * 6 + 2]) - '0');\n",
        "\t\t\tresults[2 * i] = (result + '0');\n",
        "\t\t\tresults[2 * i + 1] = '\\n';\n",
        "\t\t}\n",
        "\t\telse if (data[i * 6 + 4] == '2')\n",
        "\t\t{\n",
        "\t\t\tint result = !(((data[i * 6]) - '0') & ((data[i * 6 + 2]) - '0'));\n",
        "\t\t\tresults[2 * i] = (result + '0');\n",
        "\t\t\tresults[2 * i + 1] = '\\n';\n",
        "\t\t}\n",
        "\t\telse if (data[i * 6 + 4] == '3')\n",
        "\t\t{\n",
        "\t\t\tint result = !(((data[i * 6]) - '0') | ((data[i * 6 + 2]) - '0'));\n",
        "\t\t\tresults[2 * i] = (result + '0');\n",
        "\t\t\tresults[2 * i + 1] = '\\n';\n",
        "\t\t}\n",
        "\t\telse if (data[i * 6 + 4] == '4')\n",
        "\t\t{\n",
        "\t\t\tint result = (((data[i * 6]) - '0') ^ ((data[i * 6 + 2]) - '0'));\n",
        "\t\t\tresults[2 * i] = (result + '0');\n",
        "\t\t\tresults[2 * i + 1] = '\\n';\n",
        "\t\t}\n",
        "\t\telse if (data[i * 6 + 4] == '5')\n",
        "\t\t{\n",
        "\t\t\tint result = !(((data[i * 6]) - '0') ^ ((data[i * 6 + 2]) - '0'));\n",
        "\t\t\tresults[2 * i] = (result + '0');\n",
        "\t\t\tresults[2 * i + 1] = '\\n';\n",
        "\t\t}\n",
        "\t}\n",
        "}\n",
        "\n",
        "\n",
        "void parallel_prefetch(FILE* fp_in, int length, FILE* fp_out) {\n",
        "\t// input has length 'length' and output has length 'length/3'\n",
        "\t// output file has only 2 elements in one line (a number and a '\\n') while input file has 6 (listed in main)\n",
        "\tchar* data, * results;\n",
        "\t// timer_kernel records time for kernel function\n",
        "\tGpuTimer timer_kernel;\n",
        "\t// // Unified memory allocation methods\n",
        "\tcudaMallocManaged(&data, length);\n",
        "  cudaMallocManaged(&results, length / 3);\n",
        "\tfread(data, 1, length, fp_in);\n",
        "\tint maxThreadNum = 1024;\n",
        "\t// distribute the total threads equally in blocks\n",
        "\twhile (1)\n",
        "\t{\n",
        "\t\tif (length / 6 % maxThreadNum != 0)\n",
        "\t\t{\n",
        "\t\t\tmaxThreadNum--;\n",
        "\t\t}\n",
        "\t\telse\n",
        "\t\t{\n",
        "\t\t\tbreak;\n",
        "\t\t}\n",
        "\t}\n",
        "\tint totalBlocks = length / 6 / maxThreadNum;\n",
        "\n",
        "  // Prefetch the data to the GPU\n",
        "  int device = -1;\n",
        "  cudaGetDevice(&device);\n",
        "  cudaMemPrefetchAsync(data, length, device, NULL);\n",
        "  cudaMemPrefetchAsync(results, length/3, device, NULL);\n",
        "\t\n",
        "\ttimer_kernel.Start();\n",
        "\tclassify <<<totalBlocks, maxThreadNum >>> (data, length / 6, results);\n",
        "\ttimer_kernel.Stop();\n",
        "\tcudaDeviceSynchronize();\n",
        "\tprintf(\"Time for kernel functions: %f ms\\n\", timer_kernel.Elapsed());\n",
        "\n",
        "\tfputs(results, fp_out);\n",
        "\n",
        "\tcudaFree(data);\n",
        "\tcudaFree(results);\n",
        "}\n",
        "\n",
        "int main(int argc, char* argv[])\n",
        "{\n",
        "\tif (argc < 4)\n",
        "\t{\n",
        "\t\tprintf(\"You must enter 3 input files!\\n\");\n",
        "\t\texit(1);\n",
        "\t}\n",
        "\n",
        "\t// argv[1] : input_file_path\n",
        "\t// argv[2] : input_file_length\n",
        "\t// argv[3] : output_file_path\n",
        "\n",
        "\tchar* fileName = argv[1];\n",
        "\tFILE* input = fopen(fileName, \"r\");\n",
        "\tif (input == NULL)\n",
        "\t{\n",
        "\t\texit(EXIT_FAILURE);\n",
        "\t\tprintf(\"No input file.\\n\");\n",
        "\t}\n",
        "\n",
        "\n",
        "\tchar* outputFileName = argv[3];\n",
        "\tFILE* output = fopen(outputFileName, \"w\");\n",
        "\tif (output == NULL)\n",
        "\t{\n",
        "\t\texit(EXIT_FAILURE);\n",
        "\t\tprintf(\"No output file.\\n\");\n",
        "\t}\n",
        "\n",
        "\t// atoi(argv[2]) is the number of lines in a file\n",
        "\t// each line has 6 elements, including 3 numbers, 2 commas and 1 '\\n'\n",
        "\t// as a result the length pass in should be atoi(argv[2]) * 6 \n",
        "\tprintf(\"For input file %s \\n\", fileName);\n",
        "\tparallel_prefetch(input, atoi(argv[2]) * 6, output);\n",
        "\n",
        "\tfclose(input);\n",
        "\tfclose(output);\n",
        "\n",
        "\treturn 0;\n",
        "}"
      ],
      "execution_count": null,
      "outputs": [
        {
          "output_type": "stream",
          "text": [
            "Writing parallel_prefetch.cu\n"
          ],
          "name": "stdout"
        }
      ]
    },
    {
      "cell_type": "code",
      "metadata": {
        "id": "tbZRbR_aY8uk",
        "outputId": "6f8a1b56-ea45-4f53-f474-3be38d3a135f",
        "colab": {
          "base_uri": "https://localhost:8080/",
          "height": 119
        }
      },
      "source": [
        "!nvcc parallel_prefetch.cu -o parallel_prefetch\n",
        "!./parallel_prefetch input_10000.csv 10000 output_parallel_prefetch_10000.txt\n",
        "!./parallel_prefetch input_100000.csv 100000 output_parallel_prefetch_100000.txt\n",
        "!./parallel_prefetch input_1000000.csv 1000000 output_parallel_prefetch_1000000.txt"
      ],
      "execution_count": null,
      "outputs": [
        {
          "output_type": "stream",
          "text": [
            "For input file input_10000.csv \n",
            "Time for kernel functions: 0.011680 ms\n",
            "For input file input_100000.csv \n",
            "Time for kernel functions: 0.022592 ms\n",
            "For input file input_1000000.csv \n",
            "Time for kernel functions: 0.124448 ms\n"
          ],
          "name": "stdout"
        }
      ]
    },
    {
      "cell_type": "code",
      "metadata": {
        "id": "1HmIwWFWZFfZ",
        "outputId": "dd567ef5-0b86-4048-bd7b-a24a64e89488",
        "colab": {
          "base_uri": "https://localhost:8080/",
          "height": 561
        }
      },
      "source": [
        "!nvprof ./parallel_prefetch input_10000.csv 10000 output_parallel_prefetch_10000.txt"
      ],
      "execution_count": null,
      "outputs": [
        {
          "output_type": "stream",
          "text": [
            "For input file input_10000.csv \n",
            "==446== NVPROF is profiling process 446, command: ./parallel_prefetch input_10000.csv 10000 output_parallel_prefetch_10000.txt\n",
            "Time for kernel functions: 0.036672 ms\n",
            "==446== Profiling application: ./parallel_prefetch input_10000.csv 10000 output_parallel_prefetch_10000.txt\n",
            "==446== Profiling result:\n",
            "            Type  Time(%)      Time     Calls       Avg       Min       Max  Name\n",
            " GPU activities:  100.00%  6.6880us         1  6.6880us  6.6880us  6.6880us  classify(char*, int, char*)\n",
            "      API calls:   89.13%  176.83ms         2  88.415ms     900ns  176.83ms  cudaEventCreate\n",
            "                   10.29%  20.417ms         2  10.209ms  25.492us  20.392ms  cudaMallocManaged\n",
            "                    0.20%  405.36us         1  405.36us  405.36us  405.36us  cuDeviceTotalMem\n",
            "                    0.16%  308.48us         2  154.24us  47.286us  261.19us  cudaMemPrefetchAsync\n",
            "                    0.10%  201.87us         2  100.93us  30.754us  171.11us  cudaFree\n",
            "                    0.07%  137.67us        97  1.4190us     132ns  57.682us  cuDeviceGetAttribute\n",
            "                    0.01%  29.252us         1  29.252us  29.252us  29.252us  cudaLaunchKernel\n",
            "                    0.01%  28.954us         1  28.954us  28.954us  28.954us  cuDeviceGetName\n",
            "                    0.01%  12.522us         2  6.2610us  2.7620us  9.7600us  cudaEventRecord\n",
            "                    0.01%  10.285us         1  10.285us  10.285us  10.285us  cudaDeviceSynchronize\n",
            "                    0.00%  4.7660us         2  2.3830us  1.0250us  3.7410us  cudaEventDestroy\n",
            "                    0.00%  3.2650us         1  3.2650us  3.2650us  3.2650us  cuDeviceGetPCIBusId\n",
            "                    0.00%  2.7960us         1  2.7960us  2.7960us  2.7960us  cudaGetDevice\n",
            "                    0.00%  2.2410us         1  2.2410us  2.2410us  2.2410us  cudaEventSynchronize\n",
            "                    0.00%  2.1210us         3     707ns     157ns  1.4440us  cuDeviceGetCount\n",
            "                    0.00%  1.7010us         2     850ns     643ns  1.0580us  cuDeviceGet\n",
            "                    0.00%  1.6590us         1  1.6590us  1.6590us  1.6590us  cudaEventElapsedTime\n",
            "                    0.00%     276ns         1     276ns     276ns     276ns  cuDeviceGetUuid\n",
            "\n",
            "==446== Unified Memory profiling result:\n",
            "Device \"Tesla T4 (0)\"\n",
            "   Count  Avg Size  Min Size  Max Size  Total Size  Total Time  Name\n",
            "       2  32.000KB  4.0000KB  60.000KB  64.00000KB  12.19200us  Host To Device\n",
            "       5  16.000KB  4.0000KB  56.000KB  80.00000KB  14.01600us  Device To Host\n",
            "Total CPU Page faults: 3\n"
          ],
          "name": "stdout"
        }
      ]
    },
    {
      "cell_type": "code",
      "metadata": {
        "id": "Tl7xkk3cZd_m",
        "outputId": "ad49b61f-ccab-4a5d-ae72-5ed64bb04034",
        "colab": {
          "base_uri": "https://localhost:8080/",
          "height": 561
        }
      },
      "source": [
        "!nvprof ./parallel_prefetch input_100000.csv 100000 output_parallel_prefetch_100000.txt"
      ],
      "execution_count": null,
      "outputs": [
        {
          "output_type": "stream",
          "text": [
            "For input file input_100000.csv \n",
            "==459== NVPROF is profiling process 459, command: ./parallel_prefetch input_100000.csv 100000 output_parallel_prefetch_100000.txt\n",
            "Time for kernel functions: 0.023168 ms\n",
            "==459== Profiling application: ./parallel_prefetch input_100000.csv 100000 output_parallel_prefetch_100000.txt\n",
            "==459== Profiling result:\n",
            "            Type  Time(%)      Time     Calls       Avg       Min       Max  Name\n",
            " GPU activities:  100.00%  17.312us         1  17.312us  17.312us  17.312us  classify(char*, int, char*)\n",
            "      API calls:   89.08%  175.97ms         2  87.986ms     944ns  175.97ms  cudaEventCreate\n",
            "                   10.31%  20.374ms         2  10.187ms  25.080us  20.349ms  cudaMallocManaged\n",
            "                    0.19%  372.03us         1  372.03us  372.03us  372.03us  cuDeviceTotalMem\n",
            "                    0.19%  369.44us         2  184.72us  126.39us  243.05us  cudaMemPrefetchAsync\n",
            "                    0.07%  138.00us        97  1.4220us     132ns  57.642us  cuDeviceGetAttribute\n",
            "                    0.07%  134.78us         2  67.390us  28.658us  106.12us  cudaFree\n",
            "                    0.04%  88.258us         1  88.258us  88.258us  88.258us  cudaDeviceSynchronize\n",
            "                    0.02%  36.857us         1  36.857us  36.857us  36.857us  cudaLaunchKernel\n",
            "                    0.01%  27.043us         1  27.043us  27.043us  27.043us  cuDeviceGetName\n",
            "                    0.01%  14.606us         2  7.3030us  5.0090us  9.5970us  cudaEventRecord\n",
            "                    0.00%  3.1320us         1  3.1320us  3.1320us  3.1320us  cuDeviceGetPCIBusId\n",
            "                    0.00%  2.9570us         2  1.4780us     632ns  2.3250us  cudaEventDestroy\n",
            "                    0.00%  2.9010us         1  2.9010us  2.9010us  2.9010us  cudaGetDevice\n",
            "                    0.00%  2.8630us         1  2.8630us  2.8630us  2.8630us  cudaEventSynchronize\n",
            "                    0.00%  2.2280us         1  2.2280us  2.2280us  2.2280us  cudaEventElapsedTime\n",
            "                    0.00%  1.7680us         3     589ns     165ns  1.1960us  cuDeviceGetCount\n",
            "                    0.00%  1.2370us         2     618ns     285ns     952ns  cuDeviceGet\n",
            "                    0.00%     248ns         1     248ns     248ns     248ns  cuDeviceGetUuid\n",
            "\n",
            "==459== Unified Memory profiling result:\n",
            "Device \"Tesla T4 (0)\"\n",
            "   Count  Avg Size  Min Size  Max Size  Total Size  Total Time  Name\n",
            "       2  392.00KB  196.00KB  588.00KB  784.0000KB  73.12000us  Host To Device\n",
            "       3  90.666KB  4.0000KB  196.00KB  272.0000KB  25.31200us  Device To Host\n",
            "Total CPU Page faults: 6\n"
          ],
          "name": "stdout"
        }
      ]
    },
    {
      "cell_type": "code",
      "metadata": {
        "id": "sxpbSGZYZjlr",
        "outputId": "60eafa2b-08d7-4c7a-ccca-bce97be9a3a5",
        "colab": {
          "base_uri": "https://localhost:8080/",
          "height": 561
        }
      },
      "source": [
        "!nvprof ./parallel_prefetch input_1000000.csv 1000000 output_parallel_prefetch_1000000.txt"
      ],
      "execution_count": null,
      "outputs": [
        {
          "output_type": "stream",
          "text": [
            "For input file input_1000000.csv \n",
            "==471== NVPROF is profiling process 471, command: ./parallel_prefetch input_1000000.csv 1000000 output_parallel_prefetch_1000000.txt\n",
            "Time for kernel functions: 0.157088 ms\n",
            "==471== Profiling application: ./parallel_prefetch input_1000000.csv 1000000 output_parallel_prefetch_1000000.txt\n",
            "==471== Profiling result:\n",
            "            Type  Time(%)      Time     Calls       Avg       Min       Max  Name\n",
            " GPU activities:  100.00%  128.48us         1  128.48us  128.48us  128.48us  classify(char*, int, char*)\n",
            "      API calls:   88.06%  166.96ms         2  83.478ms     936ns  166.96ms  cudaEventCreate\n",
            "                   10.78%  20.433ms         2  10.216ms  46.027us  20.387ms  cudaMallocManaged\n",
            "                    0.52%  988.09us         2  494.05us  28.125us  959.97us  cudaMemPrefetchAsync\n",
            "                    0.28%  529.51us         2  264.75us  163.20us  366.31us  cudaFree\n",
            "                    0.18%  344.38us         1  344.38us  344.38us  344.38us  cuDeviceTotalMem\n",
            "                    0.07%  134.37us         1  134.37us  134.37us  134.37us  cudaDeviceSynchronize\n",
            "                    0.07%  125.95us        97  1.2980us     134ns  52.413us  cuDeviceGetAttribute\n",
            "                    0.02%  28.895us         1  28.895us  28.895us  28.895us  cudaLaunchKernel\n",
            "                    0.01%  26.145us         1  26.145us  26.145us  26.145us  cuDeviceGetName\n",
            "                    0.01%  11.663us         2  5.8310us  2.4430us  9.2200us  cudaEventRecord\n",
            "                    0.00%  3.0340us         2  1.5170us     556ns  2.4780us  cudaEventDestroy\n",
            "                    0.00%  3.0320us         1  3.0320us  3.0320us  3.0320us  cudaGetDevice\n",
            "                    0.00%  2.6840us         1  2.6840us  2.6840us  2.6840us  cudaEventSynchronize\n",
            "                    0.00%  2.6160us         1  2.6160us  2.6160us  2.6160us  cuDeviceGetPCIBusId\n",
            "                    0.00%  1.8260us         3     608ns     163ns  1.2280us  cuDeviceGetCount\n",
            "                    0.00%  1.8170us         1  1.8170us  1.8170us  1.8170us  cudaEventElapsedTime\n",
            "                    0.00%  1.1790us         2     589ns     321ns     858ns  cuDeviceGet\n",
            "                    0.00%     259ns         1     259ns     259ns     259ns  cuDeviceGetUuid\n",
            "\n",
            "==471== Unified Memory profiling result:\n",
            "Device \"Tesla T4 (0)\"\n",
            "   Count  Avg Size  Min Size  Max Size  Total Size  Total Time  Name\n",
            "       3  1.9076MB  1.7227MB  2.0000MB  5.722656MB  505.8560us  Host To Device\n",
            "      12  163.00KB  4.0000KB  928.00KB  1.910156MB  173.1840us  Device To Host\n",
            "Total CPU Page faults: 24\n"
          ],
          "name": "stdout"
        }
      ]
    },
    {
      "cell_type": "markdown",
      "metadata": {
        "id": "rcsD4M6gRjpC"
      },
      "source": [
        "Comparison For Unified Memory With Prefetching"
      ]
    },
    {
      "cell_type": "code",
      "metadata": {
        "id": "KQLjfc-XRo_C",
        "outputId": "eb4ce5ce-dc65-486f-d8d0-6cba2899c892",
        "colab": {
          "base_uri": "https://localhost:8080/",
          "height": 34
        }
      },
      "source": [
        "!gcc compareResults.c -o compareResults\n",
        "!./compareResults output_parallel_prefetch_10000.txt sol_10000.txt\n",
        "!./compareResults output_parallel_prefetch_100000.txt sol_100000.txt\n",
        "!./compareResults output_parallel_prefetch_1000000.txt sol_1000000.txt"
      ],
      "execution_count": null,
      "outputs": [
        {
          "output_type": "stream",
          "text": [
            "Total Errors : 0\tTotal Errors : 0\tTotal Errors : 0\t"
          ],
          "name": "stdout"
        }
      ]
    },
    {
      "cell_type": "code",
      "metadata": {
        "id": "lgNQl3WLSeRF"
      },
      "source": [
        ""
      ],
      "execution_count": null,
      "outputs": []
    }
  ]
}